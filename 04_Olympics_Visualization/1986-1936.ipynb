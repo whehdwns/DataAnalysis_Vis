{
 "cells": [
  {
   "cell_type": "code",
   "execution_count": 1,
   "id": "776594bb",
   "metadata": {},
   "outputs": [],
   "source": [
    "import requests\n",
    "from bs4 import BeautifulSoup\n",
    "import pandas as pd"
   ]
  },
  {
   "cell_type": "code",
   "execution_count": 2,
   "id": "4cef1f5b",
   "metadata": {},
   "outputs": [],
   "source": [
    "Olympedia_URL = \"http://www.olympedia.org\"\n",
    "Olympedia_edition = \"http://www.olympedia.org/editions\""
   ]
  },
  {
   "cell_type": "code",
   "execution_count": 3,
   "id": "35297814",
   "metadata": {},
   "outputs": [],
   "source": [
    "page = requests.get(Olympedia_edition)\n",
    "soup = BeautifulSoup(page.content, \"html.parser\")"
   ]
  },
  {
   "cell_type": "code",
   "execution_count": 4,
   "id": "ebf55aa8",
   "metadata": {},
   "outputs": [],
   "source": [
    "rows = soup.find_all('table')"
   ]
  },
  {
   "cell_type": "code",
   "execution_count": 5,
   "id": "b8e37108",
   "metadata": {},
   "outputs": [],
   "source": [
    "editions_list =[1, 2, 3, 5, 6, 7, 8, 9, 10, 11]\n",
    "year_list =[1896, 1900, 1904, 1908, 1912, 1920, 1924, 1928, 1932, 1936]"
   ]
  },
  {
   "cell_type": "code",
   "execution_count": 6,
   "id": "19a5e824",
   "metadata": {},
   "outputs": [
    {
     "data": {
      "text/plain": [
       "[1896, 1900, 1904, 1908, 1912, 1920, 1924, 1928, 1932, 1936]"
      ]
     },
     "execution_count": 6,
     "metadata": {},
     "output_type": "execute_result"
    }
   ],
   "source": [
    "year_list"
   ]
  },
  {
   "cell_type": "code",
   "execution_count": 7,
   "id": "27ce809e",
   "metadata": {},
   "outputs": [],
   "source": [
    "Olympedia_ed_list =[]\n",
    "for i in editions_list:\n",
    "    Olympedia_ed_list.append(Olympedia_edition+'/'+str(i))"
   ]
  },
  {
   "cell_type": "code",
   "execution_count": 72,
   "id": "9bc86bbe",
   "metadata": {},
   "outputs": [],
   "source": [
    "editions_list_zz = [2, 2, 1, 1, 1, 1, 1, 1, 1, 1]"
   ]
  },
  {
   "cell_type": "code",
   "execution_count": 88,
   "id": "1c3fbd00",
   "metadata": {},
   "outputs": [],
   "source": [
    "for i in range(len(Olympedia_ed_list)):\n",
    "    if editions_list_zz[i] == 1:\n",
    "        table_rows = 4\n",
    "    elif editions_list_zz[i]==2:\n",
    "        table_rows = 3\n",
    "    else:\n",
    "        table_rows = 5\n",
    "    page = requests.get(Olympedia_ed_list[i])\n",
    "    soup = BeautifulSoup(page.content, \"html.parser\")\n",
    "    rows = soup.find_all('table')\n",
    "    df = pd.read_html(str(rows[table_rows]))[0]\n",
    "    df.to_csv(\"dataset/\"+str(year_list[i])+\".csv\")"
   ]
  },
  {
   "cell_type": "code",
   "execution_count": null,
   "id": "9fb05620",
   "metadata": {},
   "outputs": [],
   "source": []
  },
  {
   "cell_type": "code",
   "execution_count": null,
   "id": "983bfe9a",
   "metadata": {},
   "outputs": [],
   "source": []
  },
  {
   "cell_type": "code",
   "execution_count": null,
   "id": "c86a81cd",
   "metadata": {},
   "outputs": [],
   "source": []
  }
 ],
 "metadata": {
  "kernelspec": {
   "display_name": "Python 3 (ipykernel)",
   "language": "python",
   "name": "python3"
  },
  "language_info": {
   "codemirror_mode": {
    "name": "ipython",
    "version": 3
   },
   "file_extension": ".py",
   "mimetype": "text/x-python",
   "name": "python",
   "nbconvert_exporter": "python",
   "pygments_lexer": "ipython3",
   "version": "3.10.9"
  }
 },
 "nbformat": 4,
 "nbformat_minor": 5
}
