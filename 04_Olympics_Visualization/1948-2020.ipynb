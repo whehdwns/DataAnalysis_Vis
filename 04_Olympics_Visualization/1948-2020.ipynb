{
 "cells": [
  {
   "cell_type": "code",
   "execution_count": 1,
   "id": "776594bb",
   "metadata": {},
   "outputs": [],
   "source": [
    "import requests\n",
    "from bs4 import BeautifulSoup\n",
    "import pandas as pd"
   ]
  },
  {
   "cell_type": "code",
   "execution_count": 2,
   "id": "4cef1f5b",
   "metadata": {},
   "outputs": [],
   "source": [
    "Olympedia_URL = \"http://www.olympedia.org\"\n",
    "Olympedia_edition = \"http://www.olympedia.org/editions\""
   ]
  },
  {
   "cell_type": "code",
   "execution_count": 3,
   "id": "35297814",
   "metadata": {},
   "outputs": [],
   "source": [
    "page = requests.get(Olympedia_edition)\n",
    "soup = BeautifulSoup(page.content, \"html.parser\")"
   ]
  },
  {
   "cell_type": "code",
   "execution_count": 4,
   "id": "ebf55aa8",
   "metadata": {},
   "outputs": [],
   "source": [
    "rows = soup.find_all('table')"
   ]
  },
  {
   "cell_type": "code",
   "execution_count": 5,
   "id": "b8e37108",
   "metadata": {},
   "outputs": [],
   "source": [
    "editions_list =[12, 13, 14, 15, 16, 17, 18, 19, 20, 21, 22, 23, 24,25,26,53, 54, 59 , 61 ]\n",
    "year_list =[]\n",
    "year = 1948\n",
    "for i in range(len(editions_list)):\n",
    "    year_list.append(year+4*i)"
   ]
  },
  {
   "cell_type": "code",
   "execution_count": 6,
   "id": "27ce809e",
   "metadata": {},
   "outputs": [],
   "source": [
    "Olympedia_ed_list =[]\n",
    "for i in editions_list:\n",
    "    Olympedia_ed_list.append(Olympedia_edition+'/'+str(i))"
   ]
  },
  {
   "cell_type": "code",
   "execution_count": 28,
   "id": "9bc86bbe",
   "metadata": {},
   "outputs": [],
   "source": [
    "editions_list_zz =[1, 0, 0, 1, 0, 0, 0, 1, 1, 1, 0, 0, 0,0,0,0, 1, 1 , 1 ]"
   ]
  },
  {
   "cell_type": "code",
   "execution_count": 30,
   "id": "9347d226",
   "metadata": {},
   "outputs": [],
   "source": [
    "for i in range(len(Olympedia_ed_list)):\n",
    "    if editions_list_zz[i] == 1:\n",
    "        table_rows = 4\n",
    "    else:\n",
    "        table_rows = 5\n",
    "    page = requests.get(Olympedia_ed_list[i])\n",
    "    soup = BeautifulSoup(page.content, \"html.parser\")\n",
    "    rows = soup.find_all('table')\n",
    "    df = pd.read_html(str(rows[table_rows]))[0]\n",
    "    df.to_csv(\"dataset/\"+str(year_list[i])+\".csv\")"
   ]
  }
 ],
 "metadata": {
  "kernelspec": {
   "display_name": "Python 3 (ipykernel)",
   "language": "python",
   "name": "python3"
  },
  "language_info": {
   "codemirror_mode": {
    "name": "ipython",
    "version": 3
   },
   "file_extension": ".py",
   "mimetype": "text/x-python",
   "name": "python",
   "nbconvert_exporter": "python",
   "pygments_lexer": "ipython3",
   "version": "3.10.9"
  }
 },
 "nbformat": 4,
 "nbformat_minor": 5
}
