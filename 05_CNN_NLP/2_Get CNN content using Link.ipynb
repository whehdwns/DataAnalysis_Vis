{
 "cells": [
  {
   "cell_type": "code",
   "execution_count": 1,
   "id": "6bec3c5d",
   "metadata": {},
   "outputs": [],
   "source": [
    "import pandas as pd"
   ]
  },
  {
   "cell_type": "code",
   "execution_count": 2,
   "id": "1f7085b4",
   "metadata": {},
   "outputs": [],
   "source": [
    "df = pd.read_csv('dataset/03262023_CNN_df.csv')"
   ]
  },
  {
   "cell_type": "code",
   "execution_count": 3,
   "id": "99a8cb3a",
   "metadata": {},
   "outputs": [
    {
     "data": {
      "text/html": [
       "<div>\n",
       "<style scoped>\n",
       "    .dataframe tbody tr th:only-of-type {\n",
       "        vertical-align: middle;\n",
       "    }\n",
       "\n",
       "    .dataframe tbody tr th {\n",
       "        vertical-align: top;\n",
       "    }\n",
       "\n",
       "    .dataframe thead th {\n",
       "        text-align: right;\n",
       "    }\n",
       "</style>\n",
       "<table border=\"1\" class=\"dataframe\">\n",
       "  <thead>\n",
       "    <tr style=\"text-align: right;\">\n",
       "      <th></th>\n",
       "      <th>link</th>\n",
       "      <th>title</th>\n",
       "      <th>article</th>\n",
       "      <th>date</th>\n",
       "    </tr>\n",
       "  </thead>\n",
       "  <tbody>\n",
       "    <tr>\n",
       "      <th>0</th>\n",
       "      <td>https://www.cnn.com/2023/03/26/us/delaware-riv...</td>\n",
       "      <td>Philadelphia officials say drinking water rema...</td>\n",
       "      <td>us</td>\n",
       "      <td>2023-03-26</td>\n",
       "    </tr>\n",
       "    <tr>\n",
       "      <th>1</th>\n",
       "      <td>https://www.cnn.com/2023/03/25/us/west-reading...</td>\n",
       "      <td>Death toll from explosion at Pennsylvania cand...</td>\n",
       "      <td>us</td>\n",
       "      <td>2023-03-26</td>\n",
       "    </tr>\n",
       "    <tr>\n",
       "      <th>2</th>\n",
       "      <td>https://www.cnn.com/2023/03/25/us/jonathan-maj...</td>\n",
       "      <td>Actor Jonathan Majors is arrested on assault c...</td>\n",
       "      <td>us</td>\n",
       "      <td>2023-03-26</td>\n",
       "    </tr>\n",
       "    <tr>\n",
       "      <th>3</th>\n",
       "      <td>https://www.cnn.com/2023/03/26/us/georgia-weat...</td>\n",
       "      <td>2 tigers recaptured after escaping Georgia saf...</td>\n",
       "      <td>us</td>\n",
       "      <td>2023-03-26</td>\n",
       "    </tr>\n",
       "    <tr>\n",
       "      <th>4</th>\n",
       "      <td>https://www.cnn.com/2023/03/26/us/indiana-univ...</td>\n",
       "      <td>12 injured in floor collapse at off-campus apa...</td>\n",
       "      <td>us</td>\n",
       "      <td>2023-03-26</td>\n",
       "    </tr>\n",
       "  </tbody>\n",
       "</table>\n",
       "</div>"
      ],
      "text/plain": [
       "                                                link  \\\n",
       "0  https://www.cnn.com/2023/03/26/us/delaware-riv...   \n",
       "1  https://www.cnn.com/2023/03/25/us/west-reading...   \n",
       "2  https://www.cnn.com/2023/03/25/us/jonathan-maj...   \n",
       "3  https://www.cnn.com/2023/03/26/us/georgia-weat...   \n",
       "4  https://www.cnn.com/2023/03/26/us/indiana-univ...   \n",
       "\n",
       "                                               title article        date  \n",
       "0  Philadelphia officials say drinking water rema...      us  2023-03-26  \n",
       "1  Death toll from explosion at Pennsylvania cand...      us  2023-03-26  \n",
       "2  Actor Jonathan Majors is arrested on assault c...      us  2023-03-26  \n",
       "3  2 tigers recaptured after escaping Georgia saf...      us  2023-03-26  \n",
       "4  12 injured in floor collapse at off-campus apa...      us  2023-03-26  "
      ]
     },
     "execution_count": 3,
     "metadata": {},
     "output_type": "execute_result"
    }
   ],
   "source": [
    "df.head()"
   ]
  },
  {
   "cell_type": "code",
   "execution_count": 4,
   "id": "c13f51a9",
   "metadata": {},
   "outputs": [
    {
     "data": {
      "text/plain": [
       "array(['us', 'crime justice', 'Enery Environment', 'Space Science'],\n",
       "      dtype=object)"
      ]
     },
     "execution_count": 4,
     "metadata": {},
     "output_type": "execute_result"
    }
   ],
   "source": [
    "df.article.unique()"
   ]
  },
  {
   "cell_type": "code",
   "execution_count": 5,
   "id": "c78e535a",
   "metadata": {},
   "outputs": [],
   "source": [
    "import requests\n",
    "import json\n",
    "from bs4 import BeautifulSoup"
   ]
  },
  {
   "cell_type": "code",
   "execution_count": 6,
   "id": "ec581b96",
   "metadata": {},
   "outputs": [],
   "source": [
    "def get_context_link(url):\n",
    "    try:\n",
    "        response = requests.get(url)\n",
    "        soup = BeautifulSoup(response.content, 'html.parser')\n",
    "        script = soup.find(\"script\", {\"type\": \"application/ld+json\"})\n",
    "        script_text = script.text\n",
    "        data = json.loads(script_text)\n",
    "        articleBody_value = data[\"articleBody\"]\n",
    "    except:\n",
    "        articleBody_value = None\n",
    "        \n",
    "    if articleBody_value is None:\n",
    "        try:\n",
    "            response = requests.get(url)\n",
    "            soup = BeautifulSoup(response.content, 'html.parser')\n",
    "            script = soup.find(\"script\", {\"type\": \"application/ld+json\"})\n",
    "            script_text = script.text\n",
    "            data = json.loads(script_text)\n",
    "            articleBody_value = data[\"description\"]\n",
    "        except:\n",
    "            articleBody_value = None\n",
    "            \n",
    "    if articleBody_value is None or '':\n",
    "        try:\n",
    "            sentences =[]\n",
    "            response = requests.get(url)\n",
    "            soup = BeautifulSoup(response.content, 'html.parser')\n",
    "            script = soup.find(\"script\", {\"type\": \"application/ld+json\"})\n",
    "            script_text = script.text\n",
    "            data = json.loads(script_text)\n",
    "            for i in range(len(data['itemListElement'])):\n",
    "                sentences.append(data['itemListElement'][i]['item']['caption'])\n",
    "            articleBody_value = \" \".join(sentences)\n",
    "        except:\n",
    "            articleBody_value = None    \n",
    "    if articleBody_value is None:\n",
    "        try:\n",
    "            sentences =[]\n",
    "            response = requests.get(url)\n",
    "            soup = BeautifulSoup(response.content, 'html.parser')\n",
    "            for p in soup.find('div', {'class':'article-body', 'itemprop':'articleBody'}).find_all('p'):\n",
    "                if p.text.strip():\n",
    "                    sentences.append(p.text.strip())\n",
    "            articleBody_value = \" \".join(sentences)\n",
    "        except:\n",
    "            articleBody_value = None\n",
    "    if articleBody_value is None:\n",
    "        try:\n",
    "            sentences =[]\n",
    "            response = requests.get(url)\n",
    "            soup = BeautifulSoup(response.content, 'html.parser')\n",
    "            for p in soup.find('div', {'class':'article-body | article w-100'}).find_all('p'):\n",
    "                if p.text.strip():\n",
    "                    sentences.append(p.text.strip())\n",
    "            articleBody_value = \" \".join(sentences)\n",
    "        except:\n",
    "            articleBody_value = None      \n",
    "    if articleBody_value is None:\n",
    "        try:\n",
    "            sentences =[]\n",
    "            response = requests.get(url)\n",
    "            soup = BeautifulSoup(response.content, 'html.parser')\n",
    "            for p in soup.find('article').find_all('p'):\n",
    "                if p.text.strip():\n",
    "                    sentences.append(p.text.strip())\n",
    "            articleBody_value = \" \".join(sentences)\n",
    "        except:\n",
    "            articleBody_value = None\n",
    "    if articleBody_value is None:\n",
    "        try:\n",
    "            sentences =[]\n",
    "            response = requests.get(url)\n",
    "            soup = BeautifulSoup(response.content, 'html.parser')\n",
    "            script = soup.find(\"div\", {\"class\": \"error-container\"})\n",
    "            if script.text.startswith('Uh-oh'):\n",
    "                articleBody_value = 'ERROR on Pages'\n",
    "            else:\n",
    "                articleBody_value = 'Error'\n",
    "        except:\n",
    "            articleBody_value = None\n",
    "    return articleBody_value"
   ]
  },
  {
   "cell_type": "code",
   "execution_count": 7,
   "id": "a3cf2271",
   "metadata": {},
   "outputs": [],
   "source": [
    "df_us = df[df.article=='us']\n",
    "df_cj = df[df.article=='crime justice']\n",
    "df_ee = df[df.article=='Enery Environment']\n",
    "df_ss = df[df.article=='Space Science']"
   ]
  },
  {
   "cell_type": "code",
   "execution_count": 8,
   "id": "41c243e8",
   "metadata": {
    "scrolled": true
   },
   "outputs": [],
   "source": [
    "context_list_us =[]\n",
    "for i in range(df_us.shape[0]):\n",
    "    contxt = get_context_link(df_us.link[i+df_us.index[0]])\n",
    "    context_list_us.append(contxt)"
   ]
  },
  {
   "cell_type": "code",
   "execution_count": 9,
   "id": "14aab5bb",
   "metadata": {
    "scrolled": true
   },
   "outputs": [],
   "source": [
    "context_list_cj =[]\n",
    "for i in range(df_cj.shape[0]):\n",
    "    contxt = get_context_link(df_cj.link[i+df_cj.index[0]])\n",
    "    context_list_cj.append(contxt)"
   ]
  },
  {
   "cell_type": "code",
   "execution_count": 10,
   "id": "9f729198",
   "metadata": {
    "scrolled": true
   },
   "outputs": [],
   "source": [
    "context_list_ee =[]\n",
    "for i in range(df_ee.shape[0]):\n",
    "    contxt = get_context_link(df_ee.link[i+df_ee.index[0]])\n",
    "    context_list_ee.append(contxt)"
   ]
  },
  {
   "cell_type": "code",
   "execution_count": 11,
   "id": "aef1c105",
   "metadata": {
    "scrolled": true
   },
   "outputs": [],
   "source": [
    "context_list_ss =[]\n",
    "for i in range(df_ss.shape[0]):\n",
    "    contxt = get_context_link(df_ss.link[i+df_ss.index[0]])\n",
    "    context_list_ss.append(contxt)"
   ]
  },
  {
   "cell_type": "code",
   "execution_count": 12,
   "id": "766aaa74",
   "metadata": {},
   "outputs": [],
   "source": [
    "import numpy as np"
   ]
  },
  {
   "cell_type": "code",
   "execution_count": 13,
   "id": "e97ce308",
   "metadata": {},
   "outputs": [],
   "source": [
    "arr1 = np.array(context_list_us)\n",
    "arr2 = np.array(context_list_cj)\n",
    "arr3 = np.array(context_list_ee)\n",
    "arr4 = np.array(context_list_ss)"
   ]
  },
  {
   "cell_type": "code",
   "execution_count": 14,
   "id": "e33f60b4",
   "metadata": {},
   "outputs": [],
   "source": [
    "combined_arr = np.concatenate((arr1, arr2, arr3, arr4))"
   ]
  },
  {
   "cell_type": "code",
   "execution_count": 15,
   "id": "a4a4e985",
   "metadata": {},
   "outputs": [
    {
     "data": {
      "text/plain": [
       "((528, 4), 528)"
      ]
     },
     "execution_count": 15,
     "metadata": {},
     "output_type": "execute_result"
    }
   ],
   "source": [
    "df.shape, len(combined_arr)"
   ]
  },
  {
   "cell_type": "code",
   "execution_count": 16,
   "id": "a04e16c4",
   "metadata": {},
   "outputs": [],
   "source": [
    "df['content'] =combined_arr"
   ]
  },
  {
   "cell_type": "code",
   "execution_count": 17,
   "id": "43dc6a13",
   "metadata": {},
   "outputs": [
    {
     "data": {
      "text/html": [
       "<div>\n",
       "<style scoped>\n",
       "    .dataframe tbody tr th:only-of-type {\n",
       "        vertical-align: middle;\n",
       "    }\n",
       "\n",
       "    .dataframe tbody tr th {\n",
       "        vertical-align: top;\n",
       "    }\n",
       "\n",
       "    .dataframe thead th {\n",
       "        text-align: right;\n",
       "    }\n",
       "</style>\n",
       "<table border=\"1\" class=\"dataframe\">\n",
       "  <thead>\n",
       "    <tr style=\"text-align: right;\">\n",
       "      <th></th>\n",
       "      <th>link</th>\n",
       "      <th>title</th>\n",
       "      <th>article</th>\n",
       "      <th>date</th>\n",
       "      <th>content</th>\n",
       "    </tr>\n",
       "  </thead>\n",
       "  <tbody>\n",
       "    <tr>\n",
       "      <th>0</th>\n",
       "      <td>https://www.cnn.com/2023/03/26/us/delaware-riv...</td>\n",
       "      <td>Philadelphia officials say drinking water rema...</td>\n",
       "      <td>us</td>\n",
       "      <td>2023-03-26</td>\n",
       "      <td>The City of Philadelphia says it is now confid...</td>\n",
       "    </tr>\n",
       "    <tr>\n",
       "      <th>1</th>\n",
       "      <td>https://www.cnn.com/2023/03/25/us/west-reading...</td>\n",
       "      <td>Death toll from explosion at Pennsylvania cand...</td>\n",
       "      <td>us</td>\n",
       "      <td>2023-03-26</td>\n",
       "      <td>A fourth person has been confirmed dead in an ...</td>\n",
       "    </tr>\n",
       "    <tr>\n",
       "      <th>2</th>\n",
       "      <td>https://www.cnn.com/2023/03/25/us/jonathan-maj...</td>\n",
       "      <td>Actor Jonathan Majors is arrested on assault c...</td>\n",
       "      <td>us</td>\n",
       "      <td>2023-03-26</td>\n",
       "      <td>Actor Jonathan Majors, who has recently starre...</td>\n",
       "    </tr>\n",
       "    <tr>\n",
       "      <th>3</th>\n",
       "      <td>https://www.cnn.com/2023/03/26/us/georgia-weat...</td>\n",
       "      <td>2 tigers recaptured after escaping Georgia saf...</td>\n",
       "      <td>us</td>\n",
       "      <td>2023-03-26</td>\n",
       "      <td>Two tigers have been recaptured after escaping...</td>\n",
       "    </tr>\n",
       "    <tr>\n",
       "      <th>4</th>\n",
       "      <td>https://www.cnn.com/2023/03/26/us/indiana-univ...</td>\n",
       "      <td>12 injured in floor collapse at off-campus apa...</td>\n",
       "      <td>us</td>\n",
       "      <td>2023-03-26</td>\n",
       "      <td>Twelve people were injured Saturday night when...</td>\n",
       "    </tr>\n",
       "  </tbody>\n",
       "</table>\n",
       "</div>"
      ],
      "text/plain": [
       "                                                link  \\\n",
       "0  https://www.cnn.com/2023/03/26/us/delaware-riv...   \n",
       "1  https://www.cnn.com/2023/03/25/us/west-reading...   \n",
       "2  https://www.cnn.com/2023/03/25/us/jonathan-maj...   \n",
       "3  https://www.cnn.com/2023/03/26/us/georgia-weat...   \n",
       "4  https://www.cnn.com/2023/03/26/us/indiana-univ...   \n",
       "\n",
       "                                               title article        date  \\\n",
       "0  Philadelphia officials say drinking water rema...      us  2023-03-26   \n",
       "1  Death toll from explosion at Pennsylvania cand...      us  2023-03-26   \n",
       "2  Actor Jonathan Majors is arrested on assault c...      us  2023-03-26   \n",
       "3  2 tigers recaptured after escaping Georgia saf...      us  2023-03-26   \n",
       "4  12 injured in floor collapse at off-campus apa...      us  2023-03-26   \n",
       "\n",
       "                                             content  \n",
       "0  The City of Philadelphia says it is now confid...  \n",
       "1  A fourth person has been confirmed dead in an ...  \n",
       "2  Actor Jonathan Majors, who has recently starre...  \n",
       "3  Two tigers have been recaptured after escaping...  \n",
       "4  Twelve people were injured Saturday night when...  "
      ]
     },
     "execution_count": 17,
     "metadata": {},
     "output_type": "execute_result"
    }
   ],
   "source": [
    "df.head()"
   ]
  },
  {
   "cell_type": "code",
   "execution_count": 18,
   "id": "70cff49b",
   "metadata": {},
   "outputs": [],
   "source": [
    "df.to_csv('dataset/03262023_CNN.csv', index=False)"
   ]
  }
 ],
 "metadata": {
  "kernelspec": {
   "display_name": "Python 3 (ipykernel)",
   "language": "python",
   "name": "python3"
  },
  "language_info": {
   "codemirror_mode": {
    "name": "ipython",
    "version": 3
   },
   "file_extension": ".py",
   "mimetype": "text/x-python",
   "name": "python",
   "nbconvert_exporter": "python",
   "pygments_lexer": "ipython3",
   "version": "3.10.9"
  }
 },
 "nbformat": 4,
 "nbformat_minor": 5
}
