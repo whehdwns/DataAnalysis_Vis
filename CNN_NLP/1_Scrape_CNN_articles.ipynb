{
 "cells": [
  {
   "cell_type": "code",
   "execution_count": 1,
   "id": "50b219df",
   "metadata": {},
   "outputs": [],
   "source": [
    "from datetime import datetime\n",
    "import requests\n",
    "import json\n",
    "from bs4 import BeautifulSoup\n",
    "import pandas as pd"
   ]
  },
  {
   "cell_type": "code",
   "execution_count": 2,
   "id": "456a518c",
   "metadata": {},
   "outputs": [],
   "source": [
    "current_date = datetime.today().strftime('%Y-%m-%d')"
   ]
  },
  {
   "cell_type": "code",
   "execution_count": 3,
   "id": "be8aad7a",
   "metadata": {},
   "outputs": [
    {
     "data": {
      "text/plain": [
       "'2023-04-17'"
      ]
     },
     "execution_count": 3,
     "metadata": {},
     "output_type": "execute_result"
    }
   ],
   "source": [
    "current_date"
   ]
  },
  {
   "cell_type": "code",
   "execution_count": 4,
   "id": "6e04e300",
   "metadata": {},
   "outputs": [],
   "source": [
    "cnn_url = \"https://www.cnn.com\""
   ]
  },
  {
   "cell_type": "markdown",
   "id": "22e72990",
   "metadata": {},
   "source": [
    "## CNN US articles"
   ]
  },
  {
   "cell_type": "code",
   "execution_count": 5,
   "id": "2ce66130",
   "metadata": {},
   "outputs": [],
   "source": [
    "url_us = \"https://www.cnn.com/us/\"\n",
    "response_us = requests.get(url_us)\n",
    "soup_us = BeautifulSoup(response_us.content, 'html.parser')\n",
    "\n",
    "target_div_us = soup_us.find_all('div', {'class': 'container__field-links container_lead-plus-headlines__field-links', \n",
    "                                   'data-editable': 'cards'})\n",
    "\n",
    "headline_link_us =[]\n",
    "headline_title_us =[]\n",
    "article_name_us =[]\n",
    "for i in range(len(target_div_us)):\n",
    "    headline_div_us =  target_div_us[i].find_all('div',{'class':'card container__item container__item--type-section container_lead-plus-headlines__item container_lead-plus-headlines__item--type-section'})\n",
    "    for j in range(len(headline_div_us)):\n",
    "        if \"https\" in headline_div_us[j].find('a').get('href'):\n",
    "            headline_link_us.append(headline_div_us[j].find('a').get('href'))\n",
    "        else:\n",
    "            headline_link_us.append((cnn_url + headline_div_us[j].find('a').get('href')))\n",
    "        headline_title_us.append(headline_div_us[j].find('div', {'class': 'container__headline container_lead-plus-headlines__headline', \n",
    "                                                              'data-editable': 'headline'}).text.replace(\"\\n\", \"\").strip())\n",
    "        article_name_us.append('us')"
   ]
  },
  {
   "cell_type": "code",
   "execution_count": 6,
   "id": "52370b17",
   "metadata": {},
   "outputs": [],
   "source": [
    "dict_us = { 'link':headline_link_us,\n",
    "            'title': headline_title_us,\n",
    "            'article':article_name_us}\n",
    "\n",
    "df_us = pd.DataFrame(dict_us)"
   ]
  },
  {
   "cell_type": "markdown",
   "id": "de0b3718",
   "metadata": {},
   "source": [
    "## CNN Crime Justice"
   ]
  },
  {
   "cell_type": "code",
   "execution_count": 7,
   "id": "f0f7419d",
   "metadata": {},
   "outputs": [],
   "source": [
    "div_dicts_crime ={0:{'class1':'container__field-links container_lead-plus-headlines-with-images__field-links',\n",
    "               'class2':'card container__item container__item--type-section container_lead-plus-headlines-with-images__item container_lead-plus-headlines-with-images__item--type-section',\n",
    "               'class3':'container__headline container_lead-plus-headlines-with-images__headline'\n",
    "              },\n",
    "           1:{'class1':'container__field-links container_vertical-strip__field-links',\n",
    "               'class2':'card container__item container__item--type-section container_vertical-strip__item container_vertical-strip__item--type-section',\n",
    "               'class3':'container__headline container_vertical-strip__headline'\n",
    "              },\n",
    "           2:{'class1':'container__field-links container__field-links',\n",
    "               'class2':'card container__item container__item--type-section container__item container__item--type-section',\n",
    "               'class3':'container__headline container__headline'\n",
    "              },\n",
    "           3:{'class1':'container__field-links container_lead-plus-headlines__field-links',\n",
    "               'class2':'card container__item container__item--type-section container_lead-plus-headlines__item container_lead-plus-headlines__item--type-section',\n",
    "               'class3':'container__headline container_lead-plus-headlines__headline'\n",
    "              }\n",
    "           }"
   ]
  },
  {
   "cell_type": "code",
   "execution_count": 8,
   "id": "797345cc",
   "metadata": {},
   "outputs": [],
   "source": [
    "url_crime = \"https://www.cnn.com/us/crime-and-justice\"\n",
    "response_crime = requests.get(url_crime)\n",
    "soup_crime = BeautifulSoup(response_crime.content, 'html.parser')\n",
    "\n",
    "headline_link_crime =[]\n",
    "headline_title_crime =[]\n",
    "article_name_crime =[]\n",
    "for i in range(len(div_dicts_crime)):\n",
    "    target_div_crime = soup_crime.find_all('div', {'class': div_dicts_crime[i]['class1'], \n",
    "                                               'data-editable': 'cards'})\n",
    "    for j in range(len(target_div_crime)):\n",
    "        headline_div_crime =  target_div_crime[j].find_all('div',{'class':div_dicts_crime[i]['class2']})\n",
    "        for k in range(len(headline_div_crime)):\n",
    "            if \"https\" in headline_div_crime[k].find('a').get('href'):\n",
    "                headline_link_crime.append( headline_div_crime[k].find('a').get('href'))\n",
    "            else:\n",
    "                headline_link_crime.append((cnn_url + headline_div_crime[k].find('a').get('href')))\n",
    "            headline_title_crime.append(headline_div_crime[k].find('div', {'class': div_dicts_crime[i]['class3'], \n",
    "                                                               'data-editable': 'headline'}).text.replace(\"\\n\", \"\").strip())\n",
    "            article_name_crime.append('crime justice')"
   ]
  },
  {
   "cell_type": "code",
   "execution_count": 9,
   "id": "66519c08",
   "metadata": {},
   "outputs": [],
   "source": [
    "dict_crime = { 'link':headline_link_crime,\n",
    "            'title': headline_title_crime,\n",
    "            'article':article_name_crime}\n",
    "\n",
    "df_crime = pd.DataFrame(dict_crime)"
   ]
  },
  {
   "cell_type": "markdown",
   "id": "3558f5f8",
   "metadata": {},
   "source": [
    "## CNN Energy Environment"
   ]
  },
  {
   "cell_type": "code",
   "execution_count": 10,
   "id": "dde3a9b8",
   "metadata": {},
   "outputs": [],
   "source": [
    "url_ee = \"https://www.cnn.com/specials/us/energy-and-environment\"\n",
    "response_ee = requests.get(url_ee)\n",
    "soup_ee = BeautifulSoup(response_ee.content, 'html.parser')\n",
    "\n",
    "total_div_ee = soup_ee.find_all('div', {'class': 'cn cn-grid-small cn--idx-0 cn-automatic-topic-container cn-grid cn-grid--small'})\n",
    "target_div_ee = total_div_ee[0].select('div[class^=\"cn__column cn__column--\"]')\n",
    "\n",
    "headline_link_ee =[]\n",
    "headline_title_ee =[]\n",
    "article_name_ee =[]\n",
    "for i in range(len(target_div_ee)):\n",
    "    if \"https\" in target_div_ee[i].find('div', {'class':'cd__content'}).find('a').get('href'):\n",
    "        headline_link_ee.append(target_div_ee[i].find('div', {'class':'cd__content'}).find('a').get('href'))\n",
    "    else:\n",
    "        headline_link_ee.append((cnn_url + target_div_ee[i].find('div', {'class':'cd__content'}).find('a').get('href')))\n",
    "    headline_title_ee.append(target_div_ee[i].find('div', {'class':'cd__content'}).find('span', {'class':'cd__headline-text vid-left-enabled'}).text)\n",
    "    article_name_ee.append('Enery Environment')"
   ]
  },
  {
   "cell_type": "code",
   "execution_count": 11,
   "id": "33599df5",
   "metadata": {},
   "outputs": [],
   "source": [
    "dict_ee = { 'link':headline_link_ee,\n",
    "            'title': headline_title_ee,\n",
    "            'article':article_name_ee}\n",
    "\n",
    "df_ee = pd.DataFrame(dict_ee)"
   ]
  },
  {
   "cell_type": "markdown",
   "id": "f66a4278",
   "metadata": {},
   "source": [
    "## CNN Space and Science"
   ]
  },
  {
   "cell_type": "code",
   "execution_count": 12,
   "id": "1c4d2ed7",
   "metadata": {},
   "outputs": [],
   "source": [
    "url_ss = \"https://www.cnn.com/specials/space-science\"\n",
    "response_ss = requests.get(url_ss)\n",
    "soup_ss = BeautifulSoup(response_ss.content, 'html.parser')\n",
    "\n",
    "total_div_ss = soup_ss.find_all('div', {'class': 'cn cn-grid-small cn--idx-0 cn-automatic-topic-container cn-grid cn-grid--small'})\n",
    "target_div_ss = total_div_ss[0].select('div[class^=\"cn__column cn__column--\"]')\n",
    "\n",
    "headline_link_ss =[]\n",
    "headline_title_ss =[]\n",
    "article_name_ss =[]\n",
    "for i in range(len(target_div_ss)):\n",
    "    if \"https\" in target_div_ss[i].find('div', {'class':'cd__content'}).find('a').get('href'):\n",
    "        headline_link_ss.append(target_div_ss[i].find('div', {'class':'cd__content'}).find('a').get('href'))\n",
    "    else:\n",
    "        headline_link_ss.append((cnn_url + target_div_ss[i].find('div', {'class':'cd__content'}).find('a').get('href')))\n",
    "    headline_title_ss.append(target_div_ss[i].find('div', {'class':'cd__content'}).find('span', {'class':'cd__headline-text vid-left-enabled'}).text)\n",
    "    article_name_ss.append('Space Science')"
   ]
  },
  {
   "cell_type": "code",
   "execution_count": 13,
   "id": "e53d5c9c",
   "metadata": {},
   "outputs": [],
   "source": [
    "dict_ss = { 'link':headline_link_ss,\n",
    "            'title': headline_title_ss,\n",
    "            'article':article_name_ss}\n",
    "\n",
    "df_ss = pd.DataFrame(dict_ss)"
   ]
  },
  {
   "cell_type": "code",
   "execution_count": 14,
   "id": "b62886f9",
   "metadata": {},
   "outputs": [
    {
     "data": {
      "text/plain": [
       "((58, 3), (26, 3), (224, 3), (224, 3))"
      ]
     },
     "execution_count": 14,
     "metadata": {},
     "output_type": "execute_result"
    }
   ],
   "source": [
    "df_us.shape, df_crime.shape, df_ee.shape, df_ss.shape"
   ]
  },
  {
   "cell_type": "code",
   "execution_count": 15,
   "id": "64fc3a79",
   "metadata": {},
   "outputs": [],
   "source": [
    "new_df = pd.concat([df_us, df_crime, df_ee, df_ss])"
   ]
  },
  {
   "cell_type": "code",
   "execution_count": 16,
   "id": "108b2a38",
   "metadata": {},
   "outputs": [],
   "source": [
    "new_df['date'] =current_date"
   ]
  },
  {
   "cell_type": "code",
   "execution_count": 17,
   "id": "aaa515e9",
   "metadata": {},
   "outputs": [],
   "source": [
    "new_df.to_csv('dataset/04172023_CNN_df.csv', index=False)"
   ]
  }
 ],
 "metadata": {
  "kernelspec": {
   "display_name": "Python 3 (ipykernel)",
   "language": "python",
   "name": "python3"
  },
  "language_info": {
   "codemirror_mode": {
    "name": "ipython",
    "version": 3
   },
   "file_extension": ".py",
   "mimetype": "text/x-python",
   "name": "python",
   "nbconvert_exporter": "python",
   "pygments_lexer": "ipython3",
   "version": "3.10.9"
  }
 },
 "nbformat": 4,
 "nbformat_minor": 5
}
